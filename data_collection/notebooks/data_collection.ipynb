{
 "cells": [
  {
   "cell_type": "markdown",
   "metadata": {},
   "source": [
    "# QuadStore project - Data collection\n",
    "\n",
    "- Many **key features** of the project requires *realistic* games' data in order to function correctly.\n",
    "Some of these features are:\n",
    "    - Games display.\n",
    "    - Filtering system (by Genre,...)\n",
    "    - Reccomendation system.\n",
    "- As a result, we will collect data from **Steam** - a popular website for purchasing games.\n",
    "---\n",
    "**Disclaimer**: \n",
    "\n",
    "No private data is collected. All data gathered is not prohibited by Steam (robots.txt).\n",
    "\n",
    "The_Quad team **guarantees** under no circumstances will this data be used for *commercial or unlawful* intentions. "
   ]
  },
  {
   "cell_type": "markdown",
   "metadata": {},
   "source": [
    "## Collection Method\n",
    "\n",
    "- We will use simple web scraping techniques to collect games data, such as **Selenium, requests**"
   ]
  },
  {
   "cell_type": "markdown",
   "metadata": {},
   "source": [
    "## Metadata\n",
    "\n",
    "- Our data will have **9 features**:\n",
    "    - **Title**: title of the game.\n",
    "    - **Release date**: release date of the game.\n",
    "    - **Categories**: the main categories that the game belongs to.\n",
    "    - **Sub-Categories**: all sub-categories that the game belongs to.\n",
    "    - **Price**: Retail price of the game.\n",
    "    - **Img url**: Url for the thumbnail image of the game.\n",
    "    - **Description**: short description of the game. *(currently unavailable)*\n",
    "    - **Rating**: Rating of the game.\n",
    "    - **Reviews**: Number of reviews made about the game."
   ]
  },
  {
   "cell_type": "markdown",
   "metadata": {},
   "source": [
    "### 0. Import necessary libraries"
   ]
  },
  {
   "cell_type": "code",
   "execution_count": null,
   "metadata": {},
   "outputs": [],
   "source": [
    "import requests\n",
    "from multiprocessing.dummy import Pool\n",
    "import pandas as pd\n",
    "import json"
   ]
  },
  {
   "cell_type": "markdown",
   "metadata": {},
   "source": [
    "### 1. Extract categories and sub-categories "
   ]
  },
  {
   "cell_type": "code",
   "execution_count": null,
   "metadata": {},
   "outputs": [],
   "source": [
    "#Collect categories and sub-categories list\n",
    "with open('./categories.json', 'r') as rstream:\n",
    "    CATEGORIES = json.load(rstream)\n",
    "with open('./sub_categories.json', 'r') as rstream:\n",
    "    SUB_CATEGORIES = json.load(rstream)"
   ]
  },
  {
   "cell_type": "code",
   "execution_count": null,
   "metadata": {},
   "outputs": [],
   "source": [
    "CATEGORIES"
   ]
  },
  {
   "cell_type": "code",
   "execution_count": null,
   "metadata": {},
   "outputs": [],
   "source": [
    "cat_list = CATEGORIES.keys()\n",
    "sub_cat_list = SUB_CATEGORIES.keys()"
   ]
  },
  {
   "cell_type": "code",
   "execution_count": null,
   "metadata": {},
   "outputs": [],
   "source": [
    "cat_list"
   ]
  },
  {
   "cell_type": "markdown",
   "metadata": {},
   "source": [
    "### 2. Selenium and Scraping\n",
    "\n",
    "- We will use ```selenium.webdriver``` to handle dynamic javascript content."
   ]
  },
  {
   "cell_type": "code",
   "execution_count": null,
   "metadata": {},
   "outputs": [],
   "source": [
    "from selenium import webdriver\n",
    "from selenium.webdriver.common.by import By\n",
    "from selenium.webdriver.support.wait import WebDriverWait\n",
    "from time import sleep"
   ]
  },
  {
   "cell_type": "markdown",
   "metadata": {},
   "source": [
    "- Create function to extract necessary data"
   ]
  },
  {
   "cell_type": "code",
   "execution_count": null,
   "metadata": {},
   "outputs": [],
   "source": [
    "def extract_data(game_list, cur_titles, data:list, default_cat):\n",
    "    for game in game_list:\n",
    "        title = game.find_element(By.CLASS_NAME, 'salepreviewwidgets_TitleCtn_1F4bc').text\n",
    "        if title in cur_titles: #Avoid overlapping\n",
    "            continue\n",
    "        else:\n",
    "            cur_titles.append(title)\n",
    "        img_url = game.find_element(By.TAG_NAME, 'img').get_attribute('src')\n",
    "        release_date = game.find_element(By.CLASS_NAME, 'salepreviewwidgets_StoreSaleWidgetRelease_3eOdk').text\n",
    "        try:\n",
    "            price = game.find_element(By.CLASS_NAME, 'salepreviewwidgets_StoreSalePriceBox_Wh0L8').text.strip('₫')\n",
    "            if price == \"Free To Play\":\n",
    "                price = 0\n",
    "        except:\n",
    "            price = 0\n",
    "        rating = game.find_element(By.CSS_SELECTOR, 'a[class=\"gamehover_ReviewScore_24NyY ReviewScore Focusable\"]').find_elements(By.TAG_NAME, 'div')[1].text\n",
    "        reviews = game.find_element(By.CLASS_NAME, 'gamehover_ReviewScoreCount_1Deyv').text.strip('|')\n",
    "        reviews = reviews.strip('User Reviews').strip()\n",
    "        \n",
    "        categories = default_cat + \";\"\n",
    "        sub_categories = \"\"\n",
    "        cats = game.find_element(By.CLASS_NAME, 'salepreviewwidgets_StoreSaleWidgetTags_3OSJs')\n",
    "        tags = cats.find_elements(By.TAG_NAME, 'a')\n",
    "        for tag in tags:\n",
    "            t = tag.text\n",
    "            if t == default_cat:\n",
    "                continue\n",
    "            if t in cat_list:\n",
    "                categories += t + \";\"\n",
    "            elif t in sub_cat_list:\n",
    "                sub_categories += t + \";\"\n",
    "    \n",
    "        data.append([title,release_date,categories,sub_categories,price,img_url,\"dummy desc\",rating,reviews])\n",
    "    return data, cur_titles\n",
    "        "
   ]
  },
  {
   "cell_type": "markdown",
   "metadata": {},
   "source": [
    "- Prepare some necessary variables"
   ]
  },
  {
   "cell_type": "code",
   "execution_count": null,
   "metadata": {},
   "outputs": [],
   "source": [
    "urls = CATEGORIES.items()\n",
    "data = []\n",
    "cur_titles = []\n",
    "\n",
    "#Initialize and run Chrome browser\n",
    "options = webdriver.ChromeOptions()\n",
    "browser = webdriver.Chrome(options=options)\n",
    "browser.implicitly_wait(5)"
   ]
  },
  {
   "cell_type": "markdown",
   "metadata": {},
   "source": [
    "- Start scraping"
   ]
  },
  {
   "cell_type": "code",
   "execution_count": null,
   "metadata": {},
   "outputs": [],
   "source": [
    "#Start scraping\n",
    "for cat,url in urls:\n",
    "    print(\"Scraping: \",url)\n",
    "    browser.get(url)\n",
    "    sleep(7)\n",
    "    \n",
    "    game_list = browser.find_elements(By.CLASS_NAME,'salepreviewwidgets_SaleItemBrowserRow_y9MSd')\n",
    "    data, cur_titles = extract_data(game_list, cur_titles, data, cat)"
   ]
  },
  {
   "cell_type": "markdown",
   "metadata": {},
   "source": [
    "- Create dataframe and save to csv file"
   ]
  },
  {
   "cell_type": "code",
   "execution_count": null,
   "metadata": {},
   "outputs": [],
   "source": [
    "columns = ['title','release_date','categories','sub_categories','price','img_url','desc','rating','reviews_count']\n",
    "df = pd.DataFrame(data,columns=columns)"
   ]
  },
  {
   "cell_type": "code",
   "execution_count": null,
   "metadata": {},
   "outputs": [],
   "source": [
    "df.to_csv('games_steam_org.csv')"
   ]
  },
  {
   "cell_type": "markdown",
   "metadata": {},
   "source": [
    "### 3. Preprocessing\n",
    "\n",
    "- We will encode all *ratings* to numerical values **(ranking from 1-5).**"
   ]
  },
  {
   "cell_type": "code",
   "execution_count": null,
   "metadata": {},
   "outputs": [],
   "source": [
    "df['rating'].unique()"
   ]
  },
  {
   "cell_type": "code",
   "execution_count": null,
   "metadata": {},
   "outputs": [],
   "source": [
    "mapping = {'Overwhelmingly Positive':5,'Very Positive':4,'Mostly Positive':3,'Mixed':2,'Mostly Negative':1,'Overwhelmingly Negative':0}\n",
    "\n",
    "df['rating'] = df['rating'].map(mapping)"
   ]
  },
  {
   "cell_type": "code",
   "execution_count": null,
   "metadata": {},
   "outputs": [],
   "source": [
    "df.head()"
   ]
  },
  {
   "cell_type": "code",
   "execution_count": null,
   "metadata": {},
   "outputs": [],
   "source": [
    "df.to_csv('games_steam_processed.csv')"
   ]
  },
  {
   "cell_type": "markdown",
   "metadata": {},
   "source": [
    "## (04/12/2023) Recollecting Data\n",
    "This section is written to collect extra neccessary features on current data."
   ]
  },
  {
   "cell_type": "code",
   "execution_count": 1,
   "metadata": {},
   "outputs": [],
   "source": [
    "import requests\n",
    "from multiprocessing.dummy import Pool\n",
    "import pandas as pd\n",
    "import json\n",
    "\n",
    "from selenium import webdriver\n",
    "from selenium.webdriver.common.by import By\n",
    "from selenium.webdriver.support.wait import WebDriverWait\n",
    "from time import sleep"
   ]
  },
  {
   "cell_type": "code",
   "execution_count": 2,
   "metadata": {},
   "outputs": [
    {
     "data": {
      "text/html": [
       "<div>\n",
       "<style scoped>\n",
       "    .dataframe tbody tr th:only-of-type {\n",
       "        vertical-align: middle;\n",
       "    }\n",
       "\n",
       "    .dataframe tbody tr th {\n",
       "        vertical-align: top;\n",
       "    }\n",
       "\n",
       "    .dataframe thead th {\n",
       "        text-align: right;\n",
       "    }\n",
       "</style>\n",
       "<table border=\"1\" class=\"dataframe\">\n",
       "  <thead>\n",
       "    <tr style=\"text-align: right;\">\n",
       "      <th></th>\n",
       "      <th>title</th>\n",
       "      <th>release_date</th>\n",
       "      <th>categories</th>\n",
       "      <th>sub_categories</th>\n",
       "      <th>price</th>\n",
       "      <th>img_url</th>\n",
       "      <th>desc</th>\n",
       "      <th>rating</th>\n",
       "      <th>reviews_count</th>\n",
       "    </tr>\n",
       "  </thead>\n",
       "  <tbody>\n",
       "    <tr>\n",
       "      <th>0</th>\n",
       "      <td>COUNTER-STRIKE 2</td>\n",
       "      <td>AUG 22, 2012</td>\n",
       "      <td>Action;</td>\n",
       "      <td>Multiplayer;</td>\n",
       "      <td>0.0</td>\n",
       "      <td>https://cdn.cloudflare.steamstatic.com/steam/a...</td>\n",
       "      <td>dummy desc</td>\n",
       "      <td>4</td>\n",
       "      <td>7694152</td>\n",
       "    </tr>\n",
       "    <tr>\n",
       "      <th>1</th>\n",
       "      <td>EA SPORTS FC™ 24</td>\n",
       "      <td>SEP 28, 2023</td>\n",
       "      <td>Action;</td>\n",
       "      <td>NaN</td>\n",
       "      <td>1090000.0</td>\n",
       "      <td>https://cdn.cloudflare.steamstatic.com/steam/a...</td>\n",
       "      <td>dummy desc</td>\n",
       "      <td>2</td>\n",
       "      <td>11131</td>\n",
       "    </tr>\n",
       "    <tr>\n",
       "      <th>2</th>\n",
       "      <td>APEX LEGENDS™</td>\n",
       "      <td>NOV 5, 2020</td>\n",
       "      <td>Action;</td>\n",
       "      <td>Multiplayer;</td>\n",
       "      <td>0.0</td>\n",
       "      <td>https://cdn.cloudflare.steamstatic.com/steam/a...</td>\n",
       "      <td>dummy desc</td>\n",
       "      <td>3</td>\n",
       "      <td>732521</td>\n",
       "    </tr>\n",
       "    <tr>\n",
       "      <th>3</th>\n",
       "      <td>CALL OF DUTY®</td>\n",
       "      <td>OCT 28, 2022</td>\n",
       "      <td>Action;</td>\n",
       "      <td>Multiplayer;Singleplayer;</td>\n",
       "      <td>0.0</td>\n",
       "      <td>https://cdn.cloudflare.steamstatic.com/steam/a...</td>\n",
       "      <td>dummy desc</td>\n",
       "      <td>2</td>\n",
       "      <td>248663</td>\n",
       "    </tr>\n",
       "    <tr>\n",
       "      <th>4</th>\n",
       "      <td>BATTLEFIELD™ 2042</td>\n",
       "      <td>NOV 19, 2021</td>\n",
       "      <td>Action;</td>\n",
       "      <td>Military;Multiplayer;</td>\n",
       "      <td>158500.0</td>\n",
       "      <td>https://cdn.cloudflare.steamstatic.com/steam/a...</td>\n",
       "      <td>dummy desc</td>\n",
       "      <td>2</td>\n",
       "      <td>164144</td>\n",
       "    </tr>\n",
       "  </tbody>\n",
       "</table>\n",
       "</div>"
      ],
      "text/plain": [
       "               title  release_date categories             sub_categories   \n",
       "0   COUNTER-STRIKE 2  AUG 22, 2012    Action;               Multiplayer;  \\\n",
       "1   EA SPORTS FC™ 24  SEP 28, 2023    Action;                        NaN   \n",
       "2      APEX LEGENDS™   NOV 5, 2020    Action;               Multiplayer;   \n",
       "3      CALL OF DUTY®  OCT 28, 2022    Action;  Multiplayer;Singleplayer;   \n",
       "4  BATTLEFIELD™ 2042  NOV 19, 2021    Action;      Military;Multiplayer;   \n",
       "\n",
       "       price                                            img_url        desc   \n",
       "0        0.0  https://cdn.cloudflare.steamstatic.com/steam/a...  dummy desc  \\\n",
       "1  1090000.0  https://cdn.cloudflare.steamstatic.com/steam/a...  dummy desc   \n",
       "2        0.0  https://cdn.cloudflare.steamstatic.com/steam/a...  dummy desc   \n",
       "3        0.0  https://cdn.cloudflare.steamstatic.com/steam/a...  dummy desc   \n",
       "4   158500.0  https://cdn.cloudflare.steamstatic.com/steam/a...  dummy desc   \n",
       "\n",
       "   rating  reviews_count  \n",
       "0       4        7694152  \n",
       "1       2          11131  \n",
       "2       3         732521  \n",
       "3       2         248663  \n",
       "4       2         164144  "
      ]
     },
     "execution_count": 2,
     "metadata": {},
     "output_type": "execute_result"
    }
   ],
   "source": [
    "df = pd.read_csv('../data/processed_data.csv')\n",
    "df.head()"
   ]
  },
  {
   "cell_type": "markdown",
   "metadata": {},
   "source": [
    "### Extra features to be collected\n",
    "- long/short description\n",
    "- img_urls\n",
    "- videos urls\n",
    "- developer"
   ]
  },
  {
   "cell_type": "code",
   "execution_count": 106,
   "metadata": {},
   "outputs": [
    {
     "name": "stdout",
     "output_type": "stream",
     "text": [
      "23\n",
      "13\n",
      "10\n",
      "14\n",
      "42\n",
      "6\n",
      "19\n",
      "15\n",
      "33\n",
      "13\n",
      "56\n",
      "7\n",
      "15\n",
      "16\n",
      "44\n",
      "35\n",
      "9\n",
      "25\n",
      "12\n",
      "8\n",
      "12\n",
      "10\n",
      "5\n",
      "25\n",
      "26\n",
      "14\n",
      "14\n",
      "14\n",
      "27\n",
      "8\n",
      "13\n",
      "11\n",
      "18\n",
      "10\n",
      "24\n",
      "152\n",
      "12\n",
      "10\n",
      "95\n",
      "29\n",
      "56\n",
      "20\n",
      "11\n",
      "17\n",
      "19\n",
      "11\n",
      "10\n",
      "18\n",
      "9\n",
      "9\n",
      "16\n",
      "26\n",
      "13\n",
      "12\n",
      "21\n",
      "15\n",
      "18\n",
      "9\n",
      "12\n",
      "21\n",
      "21\n",
      "5\n",
      "8\n",
      "11\n",
      "10\n",
      "14\n",
      "19\n",
      "20\n",
      "10\n",
      "13\n",
      "21\n",
      "14\n",
      "21\n",
      "9\n",
      "4\n"
     ]
    }
   ],
   "source": [
    "url = 'https://store.steampowered.com/search/?term='\n",
    "#search_result_row ds_collapse_flag  app_impression_tracked\n",
    "dev = []\n",
    "short_desc = []\n",
    "long_desc = []\n",
    "imgs = []\n",
    "vids = []\n",
    "\n",
    "options = webdriver.ChromeOptions()\n",
    "browser = webdriver.Chrome(options=options)\n",
    "browser.implicitly_wait(3)\n",
    "\n",
    "for name in df.title:\n",
    "    name = name.replace(' ','+')\n",
    "    browser.get(url+name)\n",
    "    sleep(2)\n",
    "    \n",
    "    link = browser.find_element(By.ID, 'search_resultsRows')\n",
    "    link = link.find_element(By.TAG_NAME, 'a')\n",
    "    link = link.get_attribute('href')\n",
    "    browser.get(link)\n",
    "    sleep(2)\n",
    "    \n",
    "    try:\n",
    "        dev_val = browser.find_element(By.ID, 'developers_list')\n",
    "    except: #Age restricted\n",
    "        dev.append(None)\n",
    "        short_desc.append(None)\n",
    "        long_desc.append(None)\n",
    "        imgs.append(None)\n",
    "        vids.append(None)\n",
    "        continue\n",
    "    dev.append(dev_val.text)\n",
    "    \n",
    "    try:\n",
    "        short_desc_val = browser.find_element(By.CLASS_NAME, 'game_description_snippet')\n",
    "        short_desc.append(short_desc_val.text)\n",
    "    except:\n",
    "        short_desc.append(None)\n",
    "    \n",
    "    try:\n",
    "        long_desc_val = browser.find_element(By.CLASS_NAME, 'game_area_description')\n",
    "        long_desc.append(long_desc_val.text)\n",
    "    except:\n",
    "        long_desc.append(None)\n",
    "    \n",
    "    try:\n",
    "        imgs_vals = browser.find_element(By.ID, 'highlight_strip_scroll')\n",
    "        imgs_vals = imgs_vals.find_elements(By.TAG_NAME, 'img')\n",
    "        print(len(imgs_vals))\n",
    "        ivals = ''\n",
    "        vvals = ''\n",
    "        text = 'movie'\n",
    "        for val in imgs_vals:\n",
    "            val = val.get_attribute('src')\n",
    "            if val.find(text) != -1:\n",
    "                vvals += val + ';'\n",
    "                continue\n",
    "            vals = vals + val + ';'\n",
    "        imgs.append(vals)\n",
    "        vids.append(vvals) if vvals != '' else vids.append(None)\n",
    "    except:\n",
    "        imgs.append(None)"
   ]
  },
  {
   "cell_type": "markdown",
   "metadata": {},
   "source": [
    "Append to Dataframe"
   ]
  },
  {
   "cell_type": "code",
   "execution_count": 107,
   "metadata": {},
   "outputs": [
    {
     "data": {
      "text/html": [
       "<div>\n",
       "<style scoped>\n",
       "    .dataframe tbody tr th:only-of-type {\n",
       "        vertical-align: middle;\n",
       "    }\n",
       "\n",
       "    .dataframe tbody tr th {\n",
       "        vertical-align: top;\n",
       "    }\n",
       "\n",
       "    .dataframe thead th {\n",
       "        text-align: right;\n",
       "    }\n",
       "</style>\n",
       "<table border=\"1\" class=\"dataframe\">\n",
       "  <thead>\n",
       "    <tr style=\"text-align: right;\">\n",
       "      <th></th>\n",
       "      <th>title</th>\n",
       "      <th>release_date</th>\n",
       "      <th>categories</th>\n",
       "      <th>sub_categories</th>\n",
       "      <th>price</th>\n",
       "      <th>banner_url</th>\n",
       "      <th>desc</th>\n",
       "      <th>rating</th>\n",
       "      <th>reviews_count</th>\n",
       "      <th>developer</th>\n",
       "      <th>short_desc</th>\n",
       "      <th>img_urls</th>\n",
       "      <th>vid_urls</th>\n",
       "    </tr>\n",
       "  </thead>\n",
       "  <tbody>\n",
       "    <tr>\n",
       "      <th>0</th>\n",
       "      <td>COUNTER-STRIKE 2</td>\n",
       "      <td>AUG 22, 2012</td>\n",
       "      <td>Action;</td>\n",
       "      <td>Multiplayer;</td>\n",
       "      <td>0.0</td>\n",
       "      <td>https://cdn.cloudflare.steamstatic.com/steam/a...</td>\n",
       "      <td>ABOUT THIS GAME\\nFor over two decades, Counter...</td>\n",
       "      <td>4</td>\n",
       "      <td>7694152</td>\n",
       "      <td>Valve</td>\n",
       "      <td>For over two decades, Counter-Strike has offer...</td>\n",
       "      <td>https://cdn.akamai.steamstatic.com/steam/apps/...</td>\n",
       "      <td>https://cdn.akamai.steamstatic.com/steam/apps/...</td>\n",
       "    </tr>\n",
       "    <tr>\n",
       "      <th>1</th>\n",
       "      <td>EA SPORTS FC™ 24</td>\n",
       "      <td>SEP 28, 2023</td>\n",
       "      <td>Action;</td>\n",
       "      <td>NaN</td>\n",
       "      <td>1090000.0</td>\n",
       "      <td>https://cdn.cloudflare.steamstatic.com/steam/a...</td>\n",
       "      <td>PLAY NOW FOR A UEFA EURO 2024™ ULTIMATE TEAM™ ...</td>\n",
       "      <td>2</td>\n",
       "      <td>11131</td>\n",
       "      <td>EA Canada &amp; EA Romania</td>\n",
       "      <td>EA SPORTS FC™ 24 welcomes you to The World’s G...</td>\n",
       "      <td>https://cdn.akamai.steamstatic.com/steam/apps/...</td>\n",
       "      <td>https://cdn.akamai.steamstatic.com/steam/apps/...</td>\n",
       "    </tr>\n",
       "    <tr>\n",
       "      <th>2</th>\n",
       "      <td>APEX LEGENDS™</td>\n",
       "      <td>NOV 5, 2020</td>\n",
       "      <td>Action;</td>\n",
       "      <td>Multiplayer;</td>\n",
       "      <td>0.0</td>\n",
       "      <td>https://cdn.cloudflare.steamstatic.com/steam/a...</td>\n",
       "      <td>REVIEWS\\n“The champion of Battle Royales.”\\n9/...</td>\n",
       "      <td>3</td>\n",
       "      <td>732521</td>\n",
       "      <td>Respawn Entertainment</td>\n",
       "      <td>Apex Legends is the award-winning, free-to-pla...</td>\n",
       "      <td>https://cdn.akamai.steamstatic.com/steam/apps/...</td>\n",
       "      <td>https://cdn.akamai.steamstatic.com/steam/apps/...</td>\n",
       "    </tr>\n",
       "    <tr>\n",
       "      <th>3</th>\n",
       "      <td>CALL OF DUTY®</td>\n",
       "      <td>OCT 28, 2022</td>\n",
       "      <td>Action;</td>\n",
       "      <td>Multiplayer;Singleplayer;</td>\n",
       "      <td>0.0</td>\n",
       "      <td>https://cdn.cloudflare.steamstatic.com/steam/a...</td>\n",
       "      <td>None</td>\n",
       "      <td>2</td>\n",
       "      <td>248663</td>\n",
       "      <td>None</td>\n",
       "      <td>None</td>\n",
       "      <td>None</td>\n",
       "      <td>https://cdn.akamai.steamstatic.com/steam/apps/...</td>\n",
       "    </tr>\n",
       "    <tr>\n",
       "      <th>4</th>\n",
       "      <td>BATTLEFIELD™ 2042</td>\n",
       "      <td>NOV 19, 2021</td>\n",
       "      <td>Action;</td>\n",
       "      <td>Military;Multiplayer;</td>\n",
       "      <td>158500.0</td>\n",
       "      <td>https://cdn.cloudflare.steamstatic.com/steam/a...</td>\n",
       "      <td>MASTER THE UNKNOWN IN BATTLEFIELD™ 2042 – SEAS...</td>\n",
       "      <td>2</td>\n",
       "      <td>164144</td>\n",
       "      <td>DICE</td>\n",
       "      <td>Master the unknown in Season 6: Dark Creations...</td>\n",
       "      <td>https://cdn.akamai.steamstatic.com/steam/apps/...</td>\n",
       "      <td>https://cdn.akamai.steamstatic.com/steam/apps/...</td>\n",
       "    </tr>\n",
       "  </tbody>\n",
       "</table>\n",
       "</div>"
      ],
      "text/plain": [
       "               title  release_date categories             sub_categories   \n",
       "0   COUNTER-STRIKE 2  AUG 22, 2012    Action;               Multiplayer;  \\\n",
       "1   EA SPORTS FC™ 24  SEP 28, 2023    Action;                        NaN   \n",
       "2      APEX LEGENDS™   NOV 5, 2020    Action;               Multiplayer;   \n",
       "3      CALL OF DUTY®  OCT 28, 2022    Action;  Multiplayer;Singleplayer;   \n",
       "4  BATTLEFIELD™ 2042  NOV 19, 2021    Action;      Military;Multiplayer;   \n",
       "\n",
       "       price                                         banner_url   \n",
       "0        0.0  https://cdn.cloudflare.steamstatic.com/steam/a...  \\\n",
       "1  1090000.0  https://cdn.cloudflare.steamstatic.com/steam/a...   \n",
       "2        0.0  https://cdn.cloudflare.steamstatic.com/steam/a...   \n",
       "3        0.0  https://cdn.cloudflare.steamstatic.com/steam/a...   \n",
       "4   158500.0  https://cdn.cloudflare.steamstatic.com/steam/a...   \n",
       "\n",
       "                                                desc  rating  reviews_count   \n",
       "0  ABOUT THIS GAME\\nFor over two decades, Counter...       4        7694152  \\\n",
       "1  PLAY NOW FOR A UEFA EURO 2024™ ULTIMATE TEAM™ ...       2          11131   \n",
       "2  REVIEWS\\n“The champion of Battle Royales.”\\n9/...       3         732521   \n",
       "3                                               None       2         248663   \n",
       "4  MASTER THE UNKNOWN IN BATTLEFIELD™ 2042 – SEAS...       2         164144   \n",
       "\n",
       "                developer                                         short_desc   \n",
       "0                   Valve  For over two decades, Counter-Strike has offer...  \\\n",
       "1  EA Canada & EA Romania  EA SPORTS FC™ 24 welcomes you to The World’s G...   \n",
       "2   Respawn Entertainment  Apex Legends is the award-winning, free-to-pla...   \n",
       "3                    None                                               None   \n",
       "4                    DICE  Master the unknown in Season 6: Dark Creations...   \n",
       "\n",
       "                                            img_urls   \n",
       "0  https://cdn.akamai.steamstatic.com/steam/apps/...  \\\n",
       "1  https://cdn.akamai.steamstatic.com/steam/apps/...   \n",
       "2  https://cdn.akamai.steamstatic.com/steam/apps/...   \n",
       "3                                               None   \n",
       "4  https://cdn.akamai.steamstatic.com/steam/apps/...   \n",
       "\n",
       "                                            vid_urls  \n",
       "0  https://cdn.akamai.steamstatic.com/steam/apps/...  \n",
       "1  https://cdn.akamai.steamstatic.com/steam/apps/...  \n",
       "2  https://cdn.akamai.steamstatic.com/steam/apps/...  \n",
       "3  https://cdn.akamai.steamstatic.com/steam/apps/...  \n",
       "4  https://cdn.akamai.steamstatic.com/steam/apps/...  "
      ]
     },
     "execution_count": 107,
     "metadata": {},
     "output_type": "execute_result"
    }
   ],
   "source": [
    "df['developer'] = pd.Series(dev)\n",
    "df['short_desc'] = pd.Series(short_desc)\n",
    "df['desc'] = pd.Series(long_desc)\n",
    "df = df.rename(columns={'img_url':'banner_url'})\n",
    "df['img_urls'] = pd.Series(imgs)\n",
    "df['vid_urls'] = pd.Series(vids)\n",
    "df.head()"
   ]
  },
  {
   "cell_type": "markdown",
   "metadata": {},
   "source": [
    "Save to csv"
   ]
  },
  {
   "cell_type": "code",
   "execution_count": 158,
   "metadata": {},
   "outputs": [],
   "source": [
    "df.to_csv('../data/new_processed_data.csv', index=False)"
   ]
  }
 ],
 "metadata": {
  "kernelspec": {
   "display_name": "Python 3",
   "language": "python",
   "name": "python3"
  },
  "language_info": {
   "codemirror_mode": {
    "name": "ipython",
    "version": 3
   },
   "file_extension": ".py",
   "mimetype": "text/x-python",
   "name": "python",
   "nbconvert_exporter": "python",
   "pygments_lexer": "ipython3",
   "version": "3.11.6"
  }
 },
 "nbformat": 4,
 "nbformat_minor": 2
}
