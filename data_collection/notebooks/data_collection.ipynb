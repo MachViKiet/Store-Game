{
 "cells": [
  {
   "cell_type": "markdown",
   "metadata": {},
   "source": [
    "# QuadStore project - Data collection\n",
    "\n",
    "- Many **key features** of the project requires *realistic* games' data in order to function correctly.\n",
    "Some of these features are:\n",
    "    - Games display.\n",
    "    - Filtering system (by Genre,...)\n",
    "    - Reccomendation system.\n",
    "- As a result, we will collect data from **Steam** - a popular website for purchasing games.\n",
    "---\n",
    "**Disclaimer**: \n",
    "\n",
    "No private data is collected. All data gathered is not prohibited by Steam (robots.txt).\n",
    "\n",
    "The_Quad team **guarantees** under no circumstances will this data be used for *commercial or unlawful* intentions. "
   ]
  },
  {
   "cell_type": "markdown",
   "metadata": {},
   "source": [
    "## Collection Method\n",
    "\n",
    "- We will use simple web scraping techniques to collect games data, such as **Selenium, requests**"
   ]
  },
  {
   "cell_type": "markdown",
   "metadata": {},
   "source": [
    "## Metadata\n",
    "\n",
    "- Our data will have **9 features**:\n",
    "    - **Title**: title of the game.\n",
    "    - **Release date**: release date of the game.\n",
    "    - **Categories**: the main categories that the game belongs to.\n",
    "    - **Sub-Categories**: all sub-categories that the game belongs to.\n",
    "    - **Price**: Retail price of the game.\n",
    "    - **Img url**: Url for the thumbnail image of the game.\n",
    "    - **Description**: short description of the game. *(currently unavailable)*\n",
    "    - **Rating**: Rating of the game.\n",
    "    - **Reviews**: Number of reviews made about the game."
   ]
  },
  {
   "cell_type": "markdown",
   "metadata": {},
   "source": [
    "### 0. Import necessary libraries"
   ]
  },
  {
   "cell_type": "code",
   "execution_count": null,
   "metadata": {},
   "outputs": [],
   "source": [
    "import requests\n",
    "from multiprocessing.dummy import Pool\n",
    "import pandas as pd\n",
    "import json"
   ]
  },
  {
   "cell_type": "markdown",
   "metadata": {},
   "source": [
    "### 1. Extract categories and sub-categories "
   ]
  },
  {
   "cell_type": "code",
   "execution_count": null,
   "metadata": {},
   "outputs": [],
   "source": [
    "#Collect categories and sub-categories list\n",
    "with open('./categories.json', 'r') as rstream:\n",
    "    CATEGORIES = json.load(rstream)\n",
    "with open('./sub_categories.json', 'r') as rstream:\n",
    "    SUB_CATEGORIES = json.load(rstream)"
   ]
  },
  {
   "cell_type": "code",
   "execution_count": null,
   "metadata": {},
   "outputs": [],
   "source": [
    "CATEGORIES"
   ]
  },
  {
   "cell_type": "code",
   "execution_count": null,
   "metadata": {},
   "outputs": [],
   "source": [
    "cat_list = CATEGORIES.keys()\n",
    "sub_cat_list = SUB_CATEGORIES.keys()"
   ]
  },
  {
   "cell_type": "code",
   "execution_count": null,
   "metadata": {},
   "outputs": [],
   "source": [
    "cat_list"
   ]
  },
  {
   "cell_type": "markdown",
   "metadata": {},
   "source": [
    "### 2. Selenium and Scraping\n",
    "\n",
    "- We will use ```selenium.webdriver``` to handle dynamic javascript content."
   ]
  },
  {
   "cell_type": "code",
   "execution_count": null,
   "metadata": {},
   "outputs": [],
   "source": [
    "from selenium import webdriver\n",
    "from selenium.webdriver.common.by import By\n",
    "from selenium.webdriver.support.wait import WebDriverWait\n",
    "from time import sleep"
   ]
  },
  {
   "cell_type": "markdown",
   "metadata": {},
   "source": [
    "- Create function to extract necessary data"
   ]
  },
  {
   "cell_type": "code",
   "execution_count": null,
   "metadata": {},
   "outputs": [],
   "source": [
    "def extract_data(game_list, cur_titles, data:list, default_cat):\n",
    "    for game in game_list:\n",
    "        title = game.find_element(By.CLASS_NAME, 'salepreviewwidgets_TitleCtn_1F4bc').text\n",
    "        if title in cur_titles: #Avoid overlapping\n",
    "            continue\n",
    "        else:\n",
    "            cur_titles.append(title)\n",
    "        img_url = game.find_element(By.TAG_NAME, 'img').get_attribute('src')\n",
    "        release_date = game.find_element(By.CLASS_NAME, 'salepreviewwidgets_StoreSaleWidgetRelease_3eOdk').text\n",
    "        try:\n",
    "            price = game.find_element(By.CLASS_NAME, 'salepreviewwidgets_StoreSalePriceBox_Wh0L8').text.strip('₫')\n",
    "            if price == \"Free To Play\":\n",
    "                price = 0\n",
    "        except:\n",
    "            price = 0\n",
    "        rating = game.find_element(By.CSS_SELECTOR, 'a[class=\"gamehover_ReviewScore_24NyY ReviewScore Focusable\"]').find_elements(By.TAG_NAME, 'div')[1].text\n",
    "        reviews = game.find_element(By.CLASS_NAME, 'gamehover_ReviewScoreCount_1Deyv').text.strip('|')\n",
    "        reviews = reviews.strip('User Reviews').strip()\n",
    "        \n",
    "        categories = default_cat + \";\"\n",
    "        sub_categories = \"\"\n",
    "        cats = game.find_element(By.CLASS_NAME, 'salepreviewwidgets_StoreSaleWidgetTags_3OSJs')\n",
    "        tags = cats.find_elements(By.TAG_NAME, 'a')\n",
    "        for tag in tags:\n",
    "            t = tag.text\n",
    "            if t == default_cat:\n",
    "                continue\n",
    "            if t in cat_list:\n",
    "                categories += t + \";\"\n",
    "            elif t in sub_cat_list:\n",
    "                sub_categories += t + \";\"\n",
    "    \n",
    "        data.append([title,release_date,categories,sub_categories,price,img_url,\"dummy desc\",rating,reviews])\n",
    "    return data, cur_titles\n",
    "        "
   ]
  },
  {
   "cell_type": "markdown",
   "metadata": {},
   "source": [
    "- Prepare some necessary variables"
   ]
  },
  {
   "cell_type": "code",
   "execution_count": null,
   "metadata": {},
   "outputs": [],
   "source": [
    "urls = CATEGORIES.items()\n",
    "data = []\n",
    "cur_titles = []\n",
    "\n",
    "#Initialize and run Chrome browser\n",
    "options = webdriver.ChromeOptions()\n",
    "browser = webdriver.Chrome(options=options)\n",
    "browser.implicitly_wait(5)"
   ]
  },
  {
   "cell_type": "markdown",
   "metadata": {},
   "source": [
    "- Start scraping"
   ]
  },
  {
   "cell_type": "code",
   "execution_count": null,
   "metadata": {},
   "outputs": [],
   "source": [
    "#Start scraping\n",
    "for cat,url in urls:\n",
    "    print(\"Scraping: \",url)\n",
    "    browser.get(url)\n",
    "    sleep(7)\n",
    "    \n",
    "    game_list = browser.find_elements(By.CLASS_NAME,'salepreviewwidgets_SaleItemBrowserRow_y9MSd')\n",
    "    data, cur_titles = extract_data(game_list, cur_titles, data, cat)"
   ]
  },
  {
   "cell_type": "markdown",
   "metadata": {},
   "source": [
    "- Create dataframe and save to csv file"
   ]
  },
  {
   "cell_type": "code",
   "execution_count": null,
   "metadata": {},
   "outputs": [],
   "source": [
    "columns = ['title','release_date','categories','sub_categories','price','img_url','desc','rating','reviews_count']\n",
    "df = pd.DataFrame(data,columns=columns)"
   ]
  },
  {
   "cell_type": "code",
   "execution_count": null,
   "metadata": {},
   "outputs": [],
   "source": [
    "df.to_csv('games_steam_org.csv')"
   ]
  },
  {
   "cell_type": "markdown",
   "metadata": {},
   "source": [
    "### 3. Preprocessing\n",
    "\n",
    "- We will encode all *ratings* to numerical values **(ranking from 1-5).**"
   ]
  },
  {
   "cell_type": "code",
   "execution_count": null,
   "metadata": {},
   "outputs": [],
   "source": [
    "df['rating'].unique()"
   ]
  },
  {
   "cell_type": "code",
   "execution_count": null,
   "metadata": {},
   "outputs": [],
   "source": [
    "mapping = {'Overwhelmingly Positive':5,'Very Positive':4,'Mostly Positive':3,'Mixed':2,'Mostly Negative':1,'Overwhelmingly Negative':0}\n",
    "\n",
    "df['rating'] = df['rating'].map(mapping)"
   ]
  },
  {
   "cell_type": "code",
   "execution_count": null,
   "metadata": {},
   "outputs": [],
   "source": [
    "df.head()"
   ]
  },
  {
   "cell_type": "code",
   "execution_count": null,
   "metadata": {},
   "outputs": [],
   "source": [
    "df.to_csv('games_steam_processed.csv')"
   ]
  },
  {
   "cell_type": "markdown",
   "metadata": {},
   "source": [
    "## (04/12/2023) Recollecting Data\n",
    "This section is written to collect extra neccessary features on current data."
   ]
  }
 ],
 "metadata": {
  "kernelspec": {
   "display_name": "Python 3",
   "language": "python",
   "name": "python3"
  },
  "language_info": {
   "codemirror_mode": {
    "name": "ipython",
    "version": 3
   },
   "file_extension": ".py",
   "mimetype": "text/x-python",
   "name": "python",
   "nbconvert_exporter": "python",
   "pygments_lexer": "ipython3",
   "version": "3.11.6"
  }
 },
 "nbformat": 4,
 "nbformat_minor": 2
}
